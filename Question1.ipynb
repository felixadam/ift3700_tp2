{
 "cells": [
  {
   "cell_type": "markdown",
   "metadata": {},
   "source": [
    "# Question 1"
   ]
  },
  {
   "cell_type": "code",
   "execution_count": 1,
   "metadata": {},
   "outputs": [],
   "source": [
    "%matplotlib inline\n",
    "import numpy as np\n",
    "import torch\n",
    "import torch.nn as nn\n",
    "from torch.utils.data import Dataset\n",
    "import matplotlib.pyplot as plt"
   ]
  },
  {
   "cell_type": "markdown",
   "metadata": {},
   "source": [
    "### Load and Transform data"
   ]
  },
  {
   "cell_type": "markdown",
   "metadata": {},
   "source": [
    "Transforme le fichier en array numpy de la forme (n_examples, n_features + 1 (pour le label))"
   ]
  },
  {
   "cell_type": "code",
   "execution_count": 2,
   "metadata": {},
   "outputs": [
    {
     "name": "stdout",
     "output_type": "stream",
     "text": [
      "(50000, 785)\n",
      "(785,)\n",
      "[1 1 1 1 1 1 1 1 1 1 1 1 1 1 0 0 0 0 0 0 0 0 0 0 0 0 0 0 1 1 1 1 1 1 1 1 1\n",
      " 1 1 1 1 0 0 0 0 0 0 0 0 0 0 0 0 0 0 0 1 1 1 1 1 1 1 1 1 1 1 1 1 0 0 0 0 0\n",
      " 0 0 0 0 0 0 0 0 0 0 1 1 1 1 1 1 1 1 1 1 1 1 1 0 0 0 0 0 0 0 0 0 0 0 0 0 0\n",
      " 0 1 1 1 1 1 1 1 1 1 1 1 1 1 0 0 0 0 0 0 0 0 0 0 0 0 0 0 0 1 1 1 1 1 1 1 1\n",
      " 1 1 1 1 1 0 0 0 0 0 0 0 0 0 0 0 0 0 0 0 1 1 1 1 1 1 1 1 1 1 1 1 1 0 0 0 0\n",
      " 0 0 0 0 0 0 0 0 0 0 0 1 1 1 1 1 1 1 1 1 1 1 1 1 0 0 0 0 0 0 0 0 0 0 0 0 0\n",
      " 0 0 1 1 1 1 1 1 1 1 1 1 1 1 1 0 0 0 0 0 0 0 0 0 0 0 0 0 0 0 1 1 1 1 1 1 1\n",
      " 1 1 1 1 1 1 0 0 0 0 0 0 0 0 0 0 0 0 0 0 0 1 1 1 1 1 1 1 1 1 1 1 1 0 0 0 0\n",
      " 0 0 0 0 0 0 0 0 0 0 0 0 1 1 1 1 1 1 1 1 1 1 1 1 0 0 0 0 0 0 0 0 0 0 0 0 0\n",
      " 0 0 0 1 1 1 1 1 1 1 1 1 1 1 1 0 0 0 0 0 0 0 0 0 0 0 0 0 0 0 0 1 1 1 1 1 1\n",
      " 1 1 1 1 1 1 0 0 0 0 0 0 0 0 0 0 0 0 0 0 0 0 1 1 1 1 1 1 1 1 1 1 1 1 0 0 0\n",
      " 0 0 0 0 0 0 0 0 0 0 0 0 0 1 1 1 1 1 1 1 1 1 1 1 1 0 0 0 0 0 0 0 0 0 0 0 0\n",
      " 0 0 0 0 1 1 1 1 1 1 1 1 1 1 1 1 0 0 0 0 0 0 0 0 0 0 0 0 0 0 0 0 1 1 1 1 1\n",
      " 1 1 1 1 1 1 1 0 0 0 0 0 0 0 0 0 0 0 0 0 0 0 0 1 1 1 1 1 1 1 1 1 1 1 1 0 0\n",
      " 0 0 0 0 0 0 0 0 0 0 0 0 0 0 1 1 1 1 1 1 1 1 1 1 1 0 0 0 0 0 0 0 0 0 0 0 0\n",
      " 0 0 0 0 0 1 1 1 1 1 1 1 1 1 1 1 0 0 0 0 0 0 0 0 0 0 0 0 0 0 0 0 0 1 1 1 1\n",
      " 1 1 1 1 1 1 1 0 0 0 0 0 0 0 0 0 0 0 0 0 0 0 0 0 1 1 1 1 1 1 1 1 1 1 1 0 0\n",
      " 0 0 0 0 0 0 0 0 0 0 0 0 0 0 0 1 1 1 1 1 1 1 1 1 1 1 0 0 0 0 0 0 0 0 0 0 0\n",
      " 0 0 0 0 0 0 1 1 1 1 1 1 1 1 1 1 1 0 0 0 0 0 0 0 0 0 0 0 0 0 0 0 0 0 1 1 1\n",
      " 1 1 1 1 1 1 1 1 0 0 0 0 0 0 0 0 0 0 0 0 0 0 0 0 0 1 1 1 1 1 1 1 1 1 1 1 0\n",
      " 0 0 0 0 0 0 0 0 0 0 0 0 0 0 0 0 1 1 1 1 1 1 1 1 1 1 1 0 0 0 0 0 0 0 0 0 0\n",
      " 0 0 0 0 0 0 0 1]\n"
     ]
    }
   ],
   "source": [
    "with open('PATCH.amat') as f:\n",
    "    lines = f.readlines()\n",
    "\n",
    "X_train = np.ndarray(shape=(50000, 785), dtype=int)\n",
    "for i,line in enumerate(lines):\n",
    "    line = line.split(\" \")\n",
    "    # remove \\n\n",
    "    line[-1] = line[-1][:-1]\n",
    "    k = 0\n",
    "    for j in range(len(line)):\n",
    "        if line[j] == '1.0000000e+00':\n",
    "            X_train[i][k] = 1\n",
    "            k += 1\n",
    "        elif line[j] == '0.0000000e+00':\n",
    "            X_train[i][k] = 0\n",
    "            k += 1\n",
    "\n",
    "print(X_train.shape)\n",
    "print(X_train[0].shape)\n",
    "print(X_train[999])"
   ]
  },
  {
   "cell_type": "markdown",
   "metadata": {},
   "source": [
    "### Construction du CNN"
   ]
  },
  {
   "cell_type": "markdown",
   "metadata": {},
   "source": [
    "Hyper parameters"
   ]
  },
  {
   "cell_type": "code",
   "execution_count": 3,
   "metadata": {},
   "outputs": [],
   "source": [
    "num_epochs = 60\n",
    "num_classes = 2\n",
    "batch_size = 16\n",
    "learning_rate = 0.001"
   ]
  },
  {
   "cell_type": "markdown",
   "metadata": {},
   "source": [
    "Transfert les données de numpy à pytorch"
   ]
  },
  {
   "cell_type": "code",
   "execution_count": 4,
   "metadata": {},
   "outputs": [],
   "source": [
    "# Load numpy dataset\n",
    "train_size = 40000\n",
    "\n",
    "X_valid = X_train[train_size:]\n",
    "X_train = X_train[:train_size]\n",
    "\n",
    "# separate labels\n",
    "y_train = X_train[:,-1]\n",
    "X_train = X_train[:,:-1]\n",
    "y_valid = X_valid[:,-1]\n",
    "X_valid = X_valid[:,:-1]\n",
    "\n",
    "\n",
    "# Transform to torch tensors\n",
    "tensor_X_train = torch.stack([torch.Tensor(i.reshape(28,28)) for i in X_train])\n",
    "tensor_y_train = torch.stack([torch.Tensor([i]) for i in y_train])\n",
    "\n",
    "tensor_X_valid = torch.stack([torch.Tensor(i.reshape(28,28)) for i in X_valid])\n",
    "tensor_y_valid = torch.stack([torch.Tensor([i]) for i in y_valid])\n",
    "\n",
    "# Transform to dataset\n",
    "train_dataset = torch.utils.data.TensorDataset(tensor_X_train.unsqueeze(1),tensor_y_train)\n",
    "valid_dataset = torch.utils.data.TensorDataset(tensor_X_valid.unsqueeze(1),tensor_y_valid)\n",
    "\n",
    "\n",
    "# Data loader\n",
    "train_loader = torch.utils.data.DataLoader(dataset=train_dataset,\n",
    "                                           batch_size=batch_size,\n",
    "                                           shuffle=True)\n",
    "\n",
    "valid_loader = torch.utils.data.DataLoader(dataset=valid_dataset,\n",
    "                                          batch_size=batch_size,\n",
    "                                          shuffle=False)"
   ]
  },
  {
   "cell_type": "markdown",
   "metadata": {},
   "source": [
    "Crée le cnn"
   ]
  },
  {
   "cell_type": "code",
   "execution_count": 5,
   "metadata": {},
   "outputs": [],
   "source": [
    "# Convolutional neural network (two convolutional layers)\n",
    "class ConvNet(nn.Module):\n",
    "    def __init__(self, num_classes=31):\n",
    "        super(ConvNet, self).__init__()\n",
    "        self.layer1 = nn.Sequential(\n",
    "            nn.Conv2d(1, 16, kernel_size=5, stride=1, padding=2),\n",
    "            nn.BatchNorm2d(16, momentum=0.1, track_running_stats=False),\n",
    "            nn.ReLU(),\n",
    "            nn.MaxPool2d(kernel_size=2, stride=2))  #output (16,14,14)\n",
    "        self.layer2 = nn.Sequential(\n",
    "            nn.Conv2d(16, 32, kernel_size=5, stride=1, padding=2),\n",
    "            nn.BatchNorm2d(32, momentum=0.1, track_running_stats=False),\n",
    "            nn.ReLU(),\n",
    "            nn.MaxPool2d(kernel_size=2, stride=2)) #output (32,7,7)\n",
    "        self.drop_out = nn.Dropout()\n",
    "        # must be nn.linear(output shape of last layer ouput (channels * height * width, num classes)\n",
    "        self.fc = nn.Linear(32*7*7, num_classes)\n",
    "\n",
    "\n",
    "    def forward(self, x):\n",
    "        out = self.layer1(x)\n",
    "        out = self.layer2(out)\n",
    "        out = out.reshape(out.size(0), -1)\n",
    "        out = self.drop_out(out)\n",
    "        out = self.fc(out)\n",
    "        return out"
   ]
  },
  {
   "cell_type": "markdown",
   "metadata": {},
   "source": [
    "### Entrainement"
   ]
  },
  {
   "cell_type": "code",
   "execution_count": 6,
   "metadata": {},
   "outputs": [
    {
     "name": "stdout",
     "output_type": "stream",
     "text": [
      "Epoch [1/60], Step [2500/2500], Loss: 0.0217, Accuracy: 84.97 %\n",
      "Test on validation set: Accuracy is 56.78 % and Loss is 0.0622\n",
      "Epoch [2/60], Step [2500/2500], Loss: 0.0157, Accuracy: 90.47 %\n",
      "Test on validation set: Accuracy is 55.08 % and Loss is 0.0718\n",
      "Epoch [3/60], Step [2500/2500], Loss: 0.0122, Accuracy: 92.97 %\n",
      "Test on validation set: Accuracy is 74.76 % and Loss is 0.0402\n",
      "Epoch [4/60], Step [2500/2500], Loss: 0.0107, Accuracy: 94.19 %\n",
      "Test on validation set: Accuracy is 77.85 % and Loss is 0.0373\n",
      "Epoch [5/60], Step [2500/2500], Loss: 0.0094, Accuracy: 94.95 %\n",
      "Test on validation set: Accuracy is 83.62 % and Loss is 0.0277\n",
      "Epoch [6/60], Step [2500/2500], Loss: 0.0086, Accuracy: 95.44 %\n",
      "Test on validation set: Accuracy is 81.20 % and Loss is 0.0330\n",
      "Epoch [7/60], Step [2500/2500], Loss: 0.0077, Accuracy: 95.89 %\n",
      "Test on validation set: Accuracy is 80.76 % and Loss is 0.0340\n",
      "Epoch [8/60], Step [2500/2500], Loss: 0.0073, Accuracy: 96.23 %\n",
      "Test on validation set: Accuracy is 87.78 % and Loss is 0.0210\n",
      "Epoch [9/60], Step [2500/2500], Loss: 0.0068, Accuracy: 96.51 %\n",
      "Test on validation set: Accuracy is 88.84 % and Loss is 0.0194\n",
      "Epoch [10/60], Step [2500/2500], Loss: 0.0066, Accuracy: 96.65 %\n",
      "Test on validation set: Accuracy is 91.13 % and Loss is 0.0132\n",
      "Epoch [11/60], Step [2500/2500], Loss: 0.0063, Accuracy: 96.76 %\n",
      "Test on validation set: Accuracy is 89.31 % and Loss is 0.0178\n",
      "Epoch [12/60], Step [2500/2500], Loss: 0.0061, Accuracy: 96.97 %\n",
      "Test on validation set: Accuracy is 90.32 % and Loss is 0.0172\n",
      "Epoch [13/60], Step [2500/2500], Loss: 0.0058, Accuracy: 97.09 %\n",
      "Test on validation set: Accuracy is 91.14 % and Loss is 0.0161\n",
      "Epoch [14/60], Step [2500/2500], Loss: 0.0058, Accuracy: 97.06 %\n",
      "Test on validation set: Accuracy is 89.02 % and Loss is 0.0203\n",
      "Epoch [15/60], Step [2500/2500], Loss: 0.0052, Accuracy: 97.33 %\n",
      "Test on validation set: Accuracy is 92.22 % and Loss is 0.0127\n",
      "Epoch [16/60], Step [2500/2500], Loss: 0.0054, Accuracy: 97.34 %\n",
      "Test on validation set: Accuracy is 91.81 % and Loss is 0.0137\n",
      "Epoch [17/60], Step [2500/2500], Loss: 0.0053, Accuracy: 97.41 %\n",
      "Test on validation set: Accuracy is 92.79 % and Loss is 0.0111\n",
      "Epoch [18/60], Step [2500/2500], Loss: 0.0048, Accuracy: 97.58 %\n",
      "Test on validation set: Accuracy is 91.66 % and Loss is 0.0154\n",
      "Epoch [19/60], Step [2500/2500], Loss: 0.0046, Accuracy: 97.74 %\n",
      "Test on validation set: Accuracy is 91.79 % and Loss is 0.0161\n",
      "Epoch [20/60], Step [2500/2500], Loss: 0.0046, Accuracy: 97.67 %\n",
      "Test on validation set: Accuracy is 92.51 % and Loss is 0.0141\n",
      "Epoch [21/60], Step [2500/2500], Loss: 0.0046, Accuracy: 97.65 %\n",
      "Test on validation set: Accuracy is 93.73 % and Loss is 0.0108\n",
      "Epoch [22/60], Step [2500/2500], Loss: 0.0045, Accuracy: 97.71 %\n",
      "Test on validation set: Accuracy is 91.60 % and Loss is 0.0158\n",
      "Epoch [23/60], Step [2500/2500], Loss: 0.0044, Accuracy: 97.83 %\n",
      "Test on validation set: Accuracy is 92.03 % and Loss is 0.0158\n",
      "Epoch [24/60], Step [2500/2500], Loss: 0.0044, Accuracy: 97.87 %\n",
      "Test on validation set: Accuracy is 93.17 % and Loss is 0.0129\n",
      "Epoch [25/60], Step [2500/2500], Loss: 0.0042, Accuracy: 97.89 %\n",
      "Test on validation set: Accuracy is 95.33 % and Loss is 0.0072\n",
      "Epoch [26/60], Step [2500/2500], Loss: 0.0041, Accuracy: 97.92 %\n",
      "Test on validation set: Accuracy is 91.41 % and Loss is 0.0178\n",
      "Epoch [27/60], Step [2500/2500], Loss: 0.0043, Accuracy: 97.87 %\n",
      "Test on validation set: Accuracy is 94.52 % and Loss is 0.0092\n",
      "Epoch [28/60], Step [2500/2500], Loss: 0.0040, Accuracy: 97.99 %\n",
      "Test on validation set: Accuracy is 94.96 % and Loss is 0.0088\n",
      "Epoch [29/60], Step [2500/2500], Loss: 0.0039, Accuracy: 98.07 %\n",
      "Test on validation set: Accuracy is 94.78 % and Loss is 0.0083\n",
      "Epoch [30/60], Step [2500/2500], Loss: 0.0039, Accuracy: 98.08 %\n",
      "Test on validation set: Accuracy is 92.30 % and Loss is 0.0160\n",
      "Epoch [31/60], Step [2500/2500], Loss: 0.0039, Accuracy: 98.08 %\n",
      "Test on validation set: Accuracy is 94.01 % and Loss is 0.0118\n",
      "Epoch [32/60], Step [2500/2500], Loss: 0.0038, Accuracy: 98.14 %\n",
      "Test on validation set: Accuracy is 92.76 % and Loss is 0.0143\n",
      "Epoch [33/60], Step [2500/2500], Loss: 0.0039, Accuracy: 98.05 %\n",
      "Test on validation set: Accuracy is 94.69 % and Loss is 0.0100\n",
      "Epoch [34/60], Step [2500/2500], Loss: 0.0037, Accuracy: 98.15 %\n",
      "Test on validation set: Accuracy is 93.41 % and Loss is 0.0133\n",
      "Epoch [35/60], Step [2500/2500], Loss: 0.0036, Accuracy: 98.25 %\n",
      "Test on validation set: Accuracy is 93.37 % and Loss is 0.0136\n",
      "Epoch [36/60], Step [2500/2500], Loss: 0.0035, Accuracy: 98.23 %\n",
      "Test on validation set: Accuracy is 95.56 % and Loss is 0.0082\n",
      "Epoch [37/60], Step [2500/2500], Loss: 0.0036, Accuracy: 98.21 %\n",
      "Test on validation set: Accuracy is 93.89 % and Loss is 0.0115\n",
      "Epoch [38/60], Step [2500/2500], Loss: 0.0035, Accuracy: 98.25 %\n",
      "Test on validation set: Accuracy is 94.65 % and Loss is 0.0101\n",
      "Epoch [39/60], Step [2500/2500], Loss: 0.0035, Accuracy: 98.31 %\n",
      "Test on validation set: Accuracy is 93.76 % and Loss is 0.0133\n",
      "Epoch [40/60], Step [2500/2500], Loss: 0.0035, Accuracy: 98.21 %\n",
      "Test on validation set: Accuracy is 94.85 % and Loss is 0.0094\n",
      "Epoch [41/60], Step [2500/2500], Loss: 0.0033, Accuracy: 98.40 %\n",
      "Test on validation set: Accuracy is 93.65 % and Loss is 0.0134\n",
      "Epoch [42/60], Step [2500/2500], Loss: 0.0035, Accuracy: 98.23 %\n",
      "Test on validation set: Accuracy is 95.17 % and Loss is 0.0085\n",
      "Epoch [43/60], Step [2500/2500], Loss: 0.0035, Accuracy: 98.25 %\n",
      "Test on validation set: Accuracy is 94.21 % and Loss is 0.0109\n",
      "Epoch [44/60], Step [2500/2500], Loss: 0.0032, Accuracy: 98.40 %\n",
      "Test on validation set: Accuracy is 95.92 % and Loss is 0.0069\n",
      "Epoch [45/60], Step [2500/2500], Loss: 0.0032, Accuracy: 98.38 %\n",
      "Test on validation set: Accuracy is 95.61 % and Loss is 0.0074\n",
      "Epoch [46/60], Step [2500/2500], Loss: 0.0033, Accuracy: 98.34 %\n",
      "Test on validation set: Accuracy is 94.79 % and Loss is 0.0099\n",
      "Epoch [47/60], Step [2500/2500], Loss: 0.0031, Accuracy: 98.39 %\n",
      "Test on validation set: Accuracy is 95.17 % and Loss is 0.0093\n",
      "Epoch [48/60], Step [2500/2500], Loss: 0.0031, Accuracy: 98.47 %\n",
      "Test on validation set: Accuracy is 94.51 % and Loss is 0.0111\n",
      "Epoch [49/60], Step [2500/2500], Loss: 0.0032, Accuracy: 98.43 %\n",
      "Test on validation set: Accuracy is 94.33 % and Loss is 0.0111\n",
      "Epoch [50/60], Step [2500/2500], Loss: 0.0032, Accuracy: 98.38 %\n",
      "Test on validation set: Accuracy is 94.43 % and Loss is 0.0113\n",
      "Epoch [51/60], Step [2500/2500], Loss: 0.0032, Accuracy: 98.42 %\n",
      "Test on validation set: Accuracy is 93.54 % and Loss is 0.0142\n",
      "Epoch [52/60], Step [2500/2500], Loss: 0.0030, Accuracy: 98.47 %\n",
      "Test on validation set: Accuracy is 94.68 % and Loss is 0.0106\n",
      "Epoch [53/60], Step [2500/2500], Loss: 0.0030, Accuracy: 98.56 %\n",
      "Test on validation set: Accuracy is 96.12 % and Loss is 0.0064\n",
      "Epoch [54/60], Step [2500/2500], Loss: 0.0030, Accuracy: 98.50 %\n",
      "Test on validation set: Accuracy is 95.17 % and Loss is 0.0097\n",
      "Epoch [55/60], Step [2500/2500], Loss: 0.0030, Accuracy: 98.52 %\n",
      "Test on validation set: Accuracy is 95.33 % and Loss is 0.0091\n",
      "Epoch [56/60], Step [2500/2500], Loss: 0.0029, Accuracy: 98.56 %\n",
      "Test on validation set: Accuracy is 95.54 % and Loss is 0.0095\n",
      "Epoch [57/60], Step [2500/2500], Loss: 0.0030, Accuracy: 98.55 %\n",
      "Test on validation set: Accuracy is 95.65 % and Loss is 0.0086\n",
      "Epoch [58/60], Step [2500/2500], Loss: 0.0028, Accuracy: 98.62 %\n",
      "Test on validation set: Accuracy is 95.84 % and Loss is 0.0080\n",
      "Epoch [59/60], Step [2500/2500], Loss: 0.0028, Accuracy: 98.60 %\n",
      "Test on validation set: Accuracy is 95.79 % and Loss is 0.0086\n",
      "Epoch [60/60], Step [2500/2500], Loss: 0.0029, Accuracy: 98.58 %\n",
      "Test on validation set: Accuracy is 95.49 % and Loss is 0.0088\n"
     ]
    }
   ],
   "source": [
    "device = torch.device('cuda:0' if torch.cuda.is_available() else 'cpu')\n",
    "\n",
    "model = ConvNet(num_classes).to(device)\n",
    "\n",
    "# Loss and optimizer\n",
    "criterion = nn.CrossEntropyLoss()\n",
    "optimizer = torch.optim.Adam(model.parameters(), lr=learning_rate, weight_decay = 0)\n",
    "\n",
    "# Variable for graph\n",
    "epochs = []\n",
    "loss_train = []\n",
    "loss_valid = []\n",
    "accuracy_train = []\n",
    "accuracy_valid = []\n",
    "\n",
    "# Train the model\n",
    "total_step = len(train_loader)\n",
    "total_step_valid = len(valid_loader)\n",
    "for epoch in range(num_epochs):\n",
    "    epochs.append(epoch)\n",
    "    correct = 0\n",
    "    total = 0\n",
    "    epoch_loss = 0\n",
    "    for i, (images, labels) in enumerate(train_loader):\n",
    "        images = images.to(device)\n",
    "        labels = labels.to(device)\n",
    "\n",
    "        # Forward pass\n",
    "        outputs = model(images)\n",
    "        labels = labels.squeeze().long()\n",
    "        loss = criterion(outputs, labels)\n",
    "\n",
    "        # Backward and optimize\n",
    "        optimizer.zero_grad()\n",
    "        loss.backward()\n",
    "        optimizer.step()\n",
    "\n",
    "        _, predicted = torch.max(outputs.data, 1)\n",
    "        total += labels.size(0)\n",
    "        correct += (predicted == labels).sum().item()\n",
    "        epoch_loss += loss.item()\n",
    "\n",
    "        if (i + 1) % total_step == 0:\n",
    "            loss_train.append(epoch_loss / total)\n",
    "            accuracy_train.append(correct / total)\n",
    "            print('Epoch [{}/{}], Step [{}/{}], Loss: {:.4f}, Accuracy: {:.2f} %'\n",
    "                  .format(epoch + 1, num_epochs, i + 1, total_step, epoch_loss / total, 100 * correct / total))\n",
    "\n",
    "    # Test the model\n",
    "    model.eval()\n",
    "    with torch.no_grad():\n",
    "        correct = 0\n",
    "        total = 0\n",
    "        epoch_loss = 0\n",
    "        for i, (images, labels) in enumerate(valid_loader):\n",
    "            images = images.to(device)\n",
    "            labels = labels.to(device)\n",
    "            labels = labels.squeeze().long()\n",
    "            outputs = model(images)\n",
    "            loss = criterion(outputs, labels)\n",
    "            _, predicted = torch.max(outputs.data, 1)\n",
    "            total += labels.size(0)\n",
    "            correct += (predicted == labels).sum().item()\n",
    "            epoch_loss += loss.item()\n",
    "\n",
    "            if (i + 1) % total_step_valid == 0:\n",
    "                loss_valid.append(epoch_loss / total)\n",
    "                accuracy_valid.append(correct / total)\n",
    "                print('Test on validation set: Accuracy is {:.2f} % and Loss is {:.4f}'.format(100 * correct / total,\n",
    "                                                                          epoch_loss / total))\n",
    "\n",
    "    model.train()"
   ]
  },
  {
   "cell_type": "markdown",
   "metadata": {},
   "source": [
    "### Visualisation de l'entrainement"
   ]
  },
  {
   "cell_type": "code",
   "execution_count": 7,
   "metadata": {},
   "outputs": [
    {
     "data": {
      "image/png": "[encoded data removed]",
      "text/plain": [
       "<Figure size 432x288 with 1 Axes>"
      ]
     },
     "metadata": {
      "needs_background": "light"
     },
     "output_type": "display_data"
    },
    {
     "data": {
      "image/png": "[encoded data removed]",
      "text/plain": [
       "<Figure size 432x288 with 1 Axes>"
      ]
     },
     "metadata": {
      "needs_background": "light"
     },
     "output_type": "display_data"
    }
   ],
   "source": [
    "# Loss curve\n",
    "plt.plot(epochs,loss_train, 'b', label='train')\n",
    "plt.plot(epochs,loss_valid, label='validation')\n",
    "plt.ylabel('loss')\n",
    "plt.xlabel('epoch')\n",
    "plt.legend(loc='upper right')\n",
    "plt.show()\n",
    "\n",
    "# Accuracy graph\n",
    "plt.plot(epochs,accuracy_train, 'b', label='train')\n",
    "plt.plot(epochs,accuracy_valid, label='validation')\n",
    "plt.ylabel('accuracy')\n",
    "plt.xlabel('epoch')\n",
    "plt.legend(loc='lower right')\n",
    "plt.show()"
   ]
  },
  {
   "cell_type": "markdown",
   "metadata": {},
   "source": [
    "### Résultat sur le test set"
   ]
  },
  {
   "cell_type": "markdown",
   "metadata": {},
   "source": [
    "Load and transform test set"
   ]
  },
  {
   "cell_type": "code",
   "execution_count": 8,
   "metadata": {},
   "outputs": [],
   "source": [
    "with open('PATCH_test.amat') as f:\n",
    "    lines = f.readlines()\n",
    "l = lines[0].split(\" \")\n",
    "l[-1] = l[-1][:-1]\n",
    "X_test = np.ndarray(shape=(len(lines), len(l)), dtype=int)\n",
    "for i,line in enumerate(lines):\n",
    "    line = line.split(\" \")\n",
    "    line[-1] = line[-1][:-1]\n",
    "    k = 0\n",
    "    for j in range(len(line)):\n",
    "        if line[j] == '1.000000000000000000e+00':\n",
    "            X_test[i][k] = 1\n",
    "            k += 1\n",
    "        elif line[j] == '0.000000000000000000e+00':\n",
    "            X_test[i][k] = 0\n",
    "            k += 1"
   ]
  },
  {
   "cell_type": "markdown",
   "metadata": {},
   "source": [
    "Test le modèle sur le test set"
   ]
  },
  {
   "cell_type": "code",
   "execution_count": 9,
   "metadata": {},
   "outputs": [],
   "source": [
    "tensor_X_test = torch.stack([torch.Tensor(i.reshape(28,28)) for i in X_test])\n",
    "\n",
    "test_dataset = torch.utils.data.TensorDataset(tensor_X_test.unsqueeze(1))\n",
    "\n",
    "# Data loader\n",
    "test_loader = torch.utils.data.DataLoader(dataset=test_dataset,\n",
    "                                           batch_size=batch_size,\n",
    "                                           shuffle=False)\n",
    "\n",
    "model.eval()\n",
    "result = []\n",
    "with torch.no_grad():\n",
    "    for images in test_loader:\n",
    "        images = images[0].to(device)\n",
    "        \n",
    "        outputs = model(images)\n",
    "\n",
    "        _, predicted = torch.max(outputs.data, 1)\n",
    "        for e in predicted:\n",
    "            result.append(e.item())\n",
    "\n",
    "#Create the csv of predictions on the test set (first column is the id of examples and the second one is the prediction)\n",
    "np.savetxt('Question1_Test_Result.csv', result, delimiter=',', fmt='%s')"
   ]
  }
 ],
 "metadata": {
  "kernelspec": {
   "display_name": "Python 3",
   "language": "python",
   "name": "python3"
  },
  "language_info": {
   "codemirror_mode": {
    "name": "ipython",
    "version": 3
   },
   "file_extension": ".py",
   "mimetype": "text/x-python",
   "name": "python",
   "nbconvert_exporter": "python",
   "pygments_lexer": "ipython3",
   "version": "3.6.7"
  }
 },
 "nbformat": 4,
 "nbformat_minor": 2
}
